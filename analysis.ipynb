{
 "cells": [
  {
   "cell_type": "markdown",
   "id": "31335606",
   "metadata": {},
   "source": [
    "# Excel Data Analysis\n",
    "This notebook analyzes salary and experience data from an Excel file."
   ]
  },
  {
   "cell_type": "code",
   "execution_count": null,
   "id": "190d994d",
   "metadata": {},
   "outputs": [],
   "source": [
    "import pandas as pd\n",
    "import matplotlib.pyplot as plt\n",
    "import seaborn as sns\n",
    "\n",
    "# Load data\n",
    "file_path = 'data.xlsx'\n",
    "df = pd.read_excel(file_path)\n",
    "df.head()"
   ]
  },
  {
   "cell_type": "markdown",
   "id": "be84a2dd",
   "metadata": {},
   "source": [
    "## Summary Statistics"
   ]
  },
  {
   "cell_type": "code",
   "execution_count": null,
   "id": "e3ec378a",
   "metadata": {},
   "outputs": [],
   "source": [
    "df.describe()"
   ]
  },
  {
   "cell_type": "markdown",
   "id": "3c2948d4",
   "metadata": {},
   "source": [
    "## Salary Distribution by Department"
   ]
  },
  {
   "cell_type": "code",
   "execution_count": null,
   "id": "25b224f2",
   "metadata": {},
   "outputs": [],
   "source": [
    "plt.figure(figsize=(8, 5))\n",
    "sns.boxplot(x='Department', y='Salary', data=df)\n",
    "plt.title('Salary by Department')\n",
    "plt.show()"
   ]
  },
  {
   "cell_type": "markdown",
   "id": "1939950b",
   "metadata": {},
   "source": [
    "## Years of Experience vs Salary"
   ]
  },
  {
   "cell_type": "code",
   "execution_count": null,
   "id": "edcc0666",
   "metadata": {},
   "outputs": [],
   "source": [
    "plt.figure(figsize=(8, 5))\n",
    "sns.scatterplot(x='Years_Experience', y='Salary', hue='Department', data=df)\n",
    "plt.title('Experience vs Salary')\n",
    "plt.show()"
   ]
  },
  {
   "cell_type": "markdown",
   "id": "247a42b2",
   "metadata": {},
   "source": [
    "## Conclusion\n",
    "- IT department has the highest average salary.\n",
    "- Positive trend between experience and salary."
   ]
  }
 ],
 "metadata": {},
 "nbformat": 4,
 "nbformat_minor": 5
}
